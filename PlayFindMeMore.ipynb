{
 "cells": [
  {
   "cell_type": "code",
   "execution_count": 1,
   "metadata": {},
   "outputs": [],
   "source": [
    "import os\n",
    "import re\n",
    "import json\n",
    "import pandas as pd\n",
    "import numpy as np\n",
    "# from sklearn.feature_extraction.text import CountVectorizer, TfidfVectorizer\n",
    "# from sklearn import metrics\n",
    "# import nltk\n",
    "# from nltk.stem import wordnet, SnowballStemmer\n",
    "# from nltk.tokenize import word_tokenize\n",
    "# from nltk.corpus import stopwords\n",
    "# import operator\n"
   ]
  },
  {
   "cell_type": "code",
   "execution_count": null,
   "metadata": {},
   "outputs": [],
   "source": [
    "# class DataLoader(object):\n",
    "#     def __init__(self):\n",
    "#         self.movies_n_series, self.ratings = self.load_imdb()\n",
    "#         self.wiki = self.load_wiki()\n",
    "\n",
    "#     @staticmethod\n",
    "#     def open_json(full_file_path):\n",
    "#         with open(full_file_path, 'r') as jfile:\n",
    "#             return json.load(jfile)\n",
    "\n",
    "#     def load_from_path(self, path_for_data_files):\n",
    "#         full_path_file_names = list(map(lambda p: os.path.join(path_for_data_files, p), os.listdir(path_for_data_files)))\n",
    "#         only_valid_files = list(filter(lambda file: '.json' in file and not ('!' in file or '?' in file),\n",
    "#                                        full_path_file_names))\n",
    "#         return list(map(self.open_json, only_valid_files))\n",
    "\n",
    "#     def load_imdb(self):\n",
    "#         movies_n_series = []\n",
    "#         ratings = []\n",
    "#         path_for_movie_jsons = 'raw_data'\n",
    "#         for movie_details in self.load_from_path(path_for_movie_jsons):\n",
    "#                 if 'Ratings' in movie_details:\n",
    "#                     for rating in movie_details['Ratings']:\n",
    "#                         rating['imdbID'] = movie_details['imdbID']\n",
    "\n",
    "#                     ratings += movie_details.pop('Ratings')\n",
    "#                 movies_n_series.append(movie_details)\n",
    "\n",
    "#         return pd.DataFrame(movies_n_series), pd.DataFrame(ratings)\n",
    "\n",
    "#     def load_wiki(self):\n",
    "#         path_for_wiki_jsons = os.path.join('raw_data', 'wiki_data')\n",
    "#         wiki = self.load_from_path(path_for_wiki_jsons)\n",
    "\n",
    "#         return pd.DataFrame(wiki)\n"
   ]
  },
  {
   "cell_type": "code",
   "execution_count": 2,
   "metadata": {},
   "outputs": [],
   "source": [
    "def open_json(full_file_path):\n",
    "    with open(full_file_path, 'r') as jfile:\n",
    "        x = json.load(jfile)\n",
    "    return x"
   ]
  },
  {
   "cell_type": "code",
   "execution_count": 4,
   "metadata": {},
   "outputs": [],
   "source": [
    "file_name = 'tt0021814.json'\n",
    "imdb_data = open_json(os.path.join('raw_imdb_data', file_name))\n",
    "wiki_data = open_json(os.path.join('raw_wiki_data', file_name))"
   ]
  },
  {
   "cell_type": "code",
   "execution_count": 5,
   "metadata": {},
   "outputs": [
    {
     "data": {
      "text/plain": [
       "{'Title': 'Dracula',\n",
       " 'Year': '1931',\n",
       " 'Rated': 'NOT RATED',\n",
       " 'Released': '14 Feb 1931',\n",
       " 'Runtime': '75 min',\n",
       " 'Genre': 'Fantasy, Horror',\n",
       " 'Director': 'Tod Browning',\n",
       " 'Writer': 'Bram Stoker (by), Hamilton Deane (from the play adapted by), John L. Balderston (from the play adapted by), Garrett Fort (play)',\n",
       " 'Actors': 'Bela Lugosi, Helen Chandler, David Manners, Dwight Frye',\n",
       " 'Plot': 'The ancient vampire Count Dracula arrives in England and begins to prey upon the virtuous young Mina.',\n",
       " 'Language': 'English, Hungarian, Latin',\n",
       " 'Country': 'USA',\n",
       " 'Awards': '3 wins & 3 nominations.',\n",
       " 'Poster': 'https://ia.media-imdb.com/images/M/MV5BZDY2ODZhZWQtNDk0ZS00OGE4LWE4NjAtZjE5MTJhMjExMTRjXkEyXkFqcGdeQXVyNjc1NTYyMjg@._V1_SX300.jpg',\n",
       " 'Ratings': [{'Source': 'Internet Movie Database', 'Value': '7.6/10'},\n",
       "  {'Source': 'Rotten Tomatoes', 'Value': '91%'}],\n",
       " 'Metascore': 'N/A',\n",
       " 'imdbRating': '7.6',\n",
       " 'imdbVotes': '38,346',\n",
       " 'imdbID': 'tt0021814',\n",
       " 'Type': 'movie',\n",
       " 'DVD': '28 Aug 2001',\n",
       " 'BoxOffice': 'N/A',\n",
       " 'Production': 'Universal Pictures',\n",
       " 'Website': 'http://www.FathomEvents.com',\n",
       " 'Response': 'True'}"
      ]
     },
     "execution_count": 5,
     "metadata": {},
     "output_type": "execute_result"
    }
   ],
   "source": [
    "imdb_data"
   ]
  },
  {
   "cell_type": "code",
   "execution_count": 6,
   "metadata": {},
   "outputs": [
    {
     "data": {
      "text/plain": [
       "{'text': '\\n\\nDracula is a 1931 American pre-Code vampire-horror film directed by Tod Browning and starring Bela Lugosi as Count Dracula. The film was produced by Universal and is based on the 1924 stage play Dracula by Hamilton Deane and John L. Balderston, which in turn is loosely based on the novel Dracula by Bram Stoker.',\n",
       " 'wiki_page_id': 1046559,\n",
       " 'imdb_id': 'tt0021814'}"
      ]
     },
     "execution_count": 6,
     "metadata": {},
     "output_type": "execute_result"
    }
   ],
   "source": [
    "wiki_data"
   ]
  },
  {
   "cell_type": "code",
   "execution_count": 12,
   "metadata": {},
   "outputs": [],
   "source": [
    "from bs4 import BeautifulSoup\n",
    "def cleanText(text):\n",
    "    text = BeautifulSoup(text, \"lxml\").text\n",
    "    text = re.sub(r'\\|\\|\\|', r' ', text) \n",
    "    text = re.sub(r'http\\S+', r'<URL>', text)\n",
    "    text = text.lower()\n",
    "    text = text.replace('x', '')\n",
    "    return text"
   ]
  },
  {
   "cell_type": "code",
   "execution_count": 11,
   "metadata": {},
   "outputs": [],
   "source": [
    "import nltk\n",
    "from nltk.corpus import stopwords\n",
    "def tokenize_text(text):\n",
    "    tokens = []\n",
    "    for sent in nltk.sent_tokenize(text):\n",
    "        for word in nltk.word_tokenize(sent):\n",
    "            if len(word) < 2:\n",
    "                continue\n",
    "            tokens.append(word.lower())\n",
    "    return tokens\n"
   ]
  },
  {
   "cell_type": "code",
   "execution_count": 10,
   "metadata": {},
   "outputs": [
    {
     "data": {
      "text/plain": [
       "'The ancient vampire Count Dracula arrives in England and begins to prey upon the virtuous young Mina. \\n\\nDracula is a 1931 American pre-Code vampire-horror film directed by Tod Browning and starring Bela Lugosi as Count Dracula. The film was produced by Universal and is based on the 1924 stage play Dracula by Hamilton Deane and John L. Balderston, which in turn is loosely based on the novel Dracula by Bram Stoker.'"
      ]
     },
     "execution_count": 10,
     "metadata": {},
     "output_type": "execute_result"
    }
   ],
   "source": [
    "full_text = imdb_data['Plot'] + ' ' + wiki_data['text']\n",
    "full_text"
   ]
  },
  {
   "cell_type": "code",
   "execution_count": 25,
   "metadata": {},
   "outputs": [
    {
     "data": {
      "text/plain": [
       "'The ancient vampire Count Dracula arrives in England and begins to prey upon the virtuous young Mina. Dracula is a 1931 American pre-Code vampire-horror film directed by Tod Browning and starring Bela Lugosi as Count Dracula. The film was produced by Universal and is based on the 1924 stage play Dracula by Hamilton Deane and John L. Balderston, which in turn is loosely based on the novel Dracula by Bram Stoker.'"
      ]
     },
     "execution_count": 25,
     "metadata": {},
     "output_type": "execute_result"
    }
   ],
   "source": [
    "x = re.sub(r'\\n', '', full_text)\n",
    "x"
   ]
  },
  {
   "cell_type": "code",
   "execution_count": 21,
   "metadata": {},
   "outputs": [
    {
     "data": {
      "text/plain": [
       "'!|\"|#|$|%|&|\\'|(|)|*|+|,|-|.|/|:|;|<|=|>|?|@|[|\\\\|]|^|_|`|{|||}|~'"
      ]
     },
     "execution_count": 21,
     "metadata": {},
     "output_type": "execute_result"
    }
   ],
   "source": [
    "import string\n",
    "'|'.join(list(string.punctuation))"
   ]
  },
  {
   "cell_type": "code",
   "execution_count": 45,
   "metadata": {},
   "outputs": [
    {
     "data": {
      "text/plain": [
       "['the',\n",
       " 'ancient',\n",
       " 'vampire',\n",
       " 'count',\n",
       " 'dracula',\n",
       " 'arrives',\n",
       " 'in',\n",
       " 'england',\n",
       " 'and',\n",
       " 'begins',\n",
       " 'to',\n",
       " 'prey',\n",
       " 'upon',\n",
       " 'the',\n",
       " 'virtuous',\n",
       " 'young',\n",
       " 'mina',\n",
       " '.',\n",
       " 'dracula',\n",
       " 'is',\n",
       " 'a',\n",
       " '1931',\n",
       " 'american',\n",
       " 'pre-code',\n",
       " 'vampire-horror',\n",
       " 'film',\n",
       " 'directed',\n",
       " 'by',\n",
       " 'tod',\n",
       " 'browning',\n",
       " 'and',\n",
       " 'starring',\n",
       " 'bela',\n",
       " 'lugosi',\n",
       " 'as',\n",
       " 'count',\n",
       " 'dracula',\n",
       " '.',\n",
       " 'the',\n",
       " 'film',\n",
       " 'was',\n",
       " 'produced',\n",
       " 'by',\n",
       " 'universal',\n",
       " 'and',\n",
       " 'is',\n",
       " 'based',\n",
       " 'on',\n",
       " 'the',\n",
       " '1924',\n",
       " 'stage',\n",
       " 'play',\n",
       " 'dracula',\n",
       " 'by',\n",
       " 'hamilton',\n",
       " 'deane',\n",
       " 'and',\n",
       " 'john',\n",
       " 'l.',\n",
       " 'balderston',\n",
       " ',',\n",
       " 'which',\n",
       " 'in',\n",
       " 'turn',\n",
       " 'is',\n",
       " 'loosely',\n",
       " 'based',\n",
       " 'on',\n",
       " 'the',\n",
       " 'novel',\n",
       " 'dracula',\n",
       " 'by',\n",
       " 'bram',\n",
       " 'stoker',\n",
       " '.']"
      ]
     },
     "execution_count": 45,
     "metadata": {},
     "output_type": "execute_result"
    }
   ],
   "source": [
    "from nltk.stem.porter import PorterStemmer\n",
    "from nltk.corpus import stopwords\n",
    "\n",
    "def token_text(full_text, remove_stop_words=True, remove_punctuations=True, remove_if_not_alpha=True, stem_word=False):\n",
    "    porter = PorterStemmer()\n",
    "\n",
    "    stop_words = set(stopwords.words('english'))\n",
    "    punctuations = list(string.punctuation)\n",
    "\n",
    "    tokenize_words = []\n",
    "    for sentence in nltk.sent_tokenize(full_text.lower()):\n",
    "        for word in nltk.word_tokenize(sentence):\n",
    "            if word in stop_words and remove_stop_words == True:\n",
    "                continue\n",
    "            if word in punctuations and remove_punctuations == True:\n",
    "                continue\n",
    "            if not word.isalpha() and remove_if_not_alpha == True:  # if not all characters in the string are alphabetic\n",
    "                continue\n",
    "            if stem_word:\n",
    "                word = porter.stem(word)\n",
    "\n",
    "            tokenize_words.append(word)\n",
    "    return tokenize_words\n",
    "                             \n",
    "                             \n",
    "token_text(full_text, remove_stop_words=False, remove_punctuations=False, remove_if_not_alpha=False, stem_word=False)"
   ]
  }
 ],
 "metadata": {
  "kernelspec": {
   "display_name": "Python 3",
   "language": "python",
   "name": "python3"
  },
  "language_info": {
   "codemirror_mode": {
    "name": "ipython",
    "version": 3
   },
   "file_extension": ".py",
   "mimetype": "text/x-python",
   "name": "python",
   "nbconvert_exporter": "python",
   "pygments_lexer": "ipython3",
   "version": "3.7.3"
  }
 },
 "nbformat": 4,
 "nbformat_minor": 2
}
